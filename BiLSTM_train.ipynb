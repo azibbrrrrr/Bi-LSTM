{
 "cells": [
  {
   "cell_type": "code",
   "execution_count": 1,
   "metadata": {
    "execution": {
     "iopub.execute_input": "2024-04-24T16:01:05.060457Z",
     "iopub.status.busy": "2024-04-24T16:01:05.059516Z",
     "iopub.status.idle": "2024-04-24T16:01:11.267288Z",
     "shell.execute_reply": "2024-04-24T16:01:11.266584Z",
     "shell.execute_reply.started": "2024-04-24T16:01:05.060433Z"
    },
    "id": "uOZ9yar7MEvV"
   },
   "outputs": [],
   "source": [
    "from tensorflow.keras.models import Model\n",
    "from tensorflow.keras.layers import Input, Embedding, LSTM, Dense, Bidirectional, concatenate, Dropout\n",
    "from tensorflow.keras.preprocessing.text import Tokenizer\n",
    "from tensorflow.keras.preprocessing.sequence import pad_sequences\n",
    "from tensorflow.keras.optimizers import Adam, RMSprop\n",
    "from sklearn.model_selection import train_test_split\n",
    "from sklearn.metrics import classification_report\n",
    "import numpy as np\n",
    "import pandas as pd\n",
    "import matplotlib.pyplot as plt\n",
    "import pickle\n",
    "import json\n",
    "import time"
   ]
  },
  {
   "cell_type": "code",
   "execution_count": 2,
   "metadata": {
    "execution": {
     "iopub.execute_input": "2024-04-24T16:01:11.269276Z",
     "iopub.status.busy": "2024-04-24T16:01:11.268578Z",
     "iopub.status.idle": "2024-04-24T16:01:11.368681Z",
     "shell.execute_reply": "2024-04-24T16:01:11.368134Z",
     "shell.execute_reply.started": "2024-04-24T16:01:11.269244Z"
    },
    "id": "GSj0fwFuDMRM"
   },
   "outputs": [],
   "source": [
    "# Load data\n",
    "data = pd.read_csv('train.csv')\n",
    "claims = data['Claim'].tolist()\n",
    "evidence = data['Evidence'].tolist()\n",
    "labels = data['label'].values"
   ]
  },
  {
   "cell_type": "code",
   "execution_count": 3,
   "metadata": {
    "colab": {
     "base_uri": "https://localhost:8080/",
     "height": 206
    },
    "execution": {
     "iopub.execute_input": "2024-04-24T16:01:11.369872Z",
     "iopub.status.busy": "2024-04-24T16:01:11.369524Z",
     "iopub.status.idle": "2024-04-24T16:01:11.381179Z",
     "shell.execute_reply": "2024-04-24T16:01:11.380617Z",
     "shell.execute_reply.started": "2024-04-24T16:01:11.369850Z"
    },
    "id": "2bGiRUGEDnsM",
    "outputId": "d7b560c9-faee-4415-b1cd-3d12983729e4"
   },
   "outputs": [
    {
     "data": {
      "text/html": [
       "<div>\n",
       "<style scoped>\n",
       "    .dataframe tbody tr th:only-of-type {\n",
       "        vertical-align: middle;\n",
       "    }\n",
       "\n",
       "    .dataframe tbody tr th {\n",
       "        vertical-align: top;\n",
       "    }\n",
       "\n",
       "    .dataframe thead th {\n",
       "        text-align: right;\n",
       "    }\n",
       "</style>\n",
       "<table border=\"1\" class=\"dataframe\">\n",
       "  <thead>\n",
       "    <tr style=\"text-align: right;\">\n",
       "      <th></th>\n",
       "      <th>Claim</th>\n",
       "      <th>Evidence</th>\n",
       "      <th>label</th>\n",
       "    </tr>\n",
       "  </thead>\n",
       "  <tbody>\n",
       "    <tr>\n",
       "      <th>0</th>\n",
       "      <td>We should legalize the growing of coca leaf</td>\n",
       "      <td>Robert W. Sweet, a federal judge, strongly agr...</td>\n",
       "      <td>1</td>\n",
       "    </tr>\n",
       "    <tr>\n",
       "      <th>1</th>\n",
       "      <td>We should ban trans fats usage in food</td>\n",
       "      <td>The net increase in LDL/HDL ratio with trans f...</td>\n",
       "      <td>1</td>\n",
       "    </tr>\n",
       "    <tr>\n",
       "      <th>2</th>\n",
       "      <td>We should legalize prostitution</td>\n",
       "      <td>Pertaining to health, safety and services, the...</td>\n",
       "      <td>0</td>\n",
       "    </tr>\n",
       "    <tr>\n",
       "      <th>3</th>\n",
       "      <td>We should subsidize investigative journalism</td>\n",
       "      <td>Date granted: 10 June 2002 Citation: \"For serv...</td>\n",
       "      <td>0</td>\n",
       "    </tr>\n",
       "    <tr>\n",
       "      <th>4</th>\n",
       "      <td>We should abolish homework</td>\n",
       "      <td>The Yarrabah community has a public library wh...</td>\n",
       "      <td>0</td>\n",
       "    </tr>\n",
       "  </tbody>\n",
       "</table>\n",
       "</div>"
      ],
      "text/plain": [
       "                                          Claim  \\\n",
       "0   We should legalize the growing of coca leaf   \n",
       "1        We should ban trans fats usage in food   \n",
       "2               We should legalize prostitution   \n",
       "3  We should subsidize investigative journalism   \n",
       "4                    We should abolish homework   \n",
       "\n",
       "                                            Evidence  label  \n",
       "0  Robert W. Sweet, a federal judge, strongly agr...      1  \n",
       "1  The net increase in LDL/HDL ratio with trans f...      1  \n",
       "2  Pertaining to health, safety and services, the...      0  \n",
       "3  Date granted: 10 June 2002 Citation: \"For serv...      0  \n",
       "4  The Yarrabah community has a public library wh...      0  "
      ]
     },
     "execution_count": 3,
     "metadata": {},
     "output_type": "execute_result"
    }
   ],
   "source": [
    "data.head()"
   ]
  },
  {
   "cell_type": "code",
   "execution_count": 4,
   "metadata": {
    "colab": {
     "base_uri": "https://localhost:8080/"
    },
    "execution": {
     "iopub.execute_input": "2024-04-24T16:01:11.382288Z",
     "iopub.status.busy": "2024-04-24T16:01:11.381985Z",
     "iopub.status.idle": "2024-04-24T16:01:16.152959Z",
     "shell.execute_reply": "2024-04-24T16:01:16.152179Z",
     "shell.execute_reply.started": "2024-04-24T16:01:11.382268Z"
    },
    "id": "y8e1LNVwySv_",
    "outputId": "cbb9380d-14c3-437b-b2c8-a03aff2dafe4"
   },
   "outputs": [
    {
     "name": "stdout",
     "output_type": "stream",
     "text": [
      "Model: \"model\"\n",
      "__________________________________________________________________________________________________\n",
      " Layer (type)                   Output Shape         Param #     Connected to                     \n",
      "==================================================================================================\n",
      " input_1 (InputLayer)           [(None, 28)]         0           []                               \n",
      "                                                                                                  \n",
      " input_2 (InputLayer)           [(None, 273)]        0           []                               \n",
      "                                                                                                  \n",
      " embedding (Embedding)          (None, 28, 64)       320000      ['input_1[0][0]']                \n",
      "                                                                                                  \n",
      " embedding_1 (Embedding)        (None, 273, 64)      320000      ['input_2[0][0]']                \n",
      "                                                                                                  \n",
      " bidirectional (Bidirectional)  (None, 28, 128)      66048       ['embedding[0][0]']              \n",
      "                                                                                                  \n",
      " bidirectional_2 (Bidirectional  (None, 273, 128)    66048       ['embedding_1[0][0]']            \n",
      " )                                                                                                \n",
      "                                                                                                  \n",
      " bidirectional_1 (Bidirectional  (None, 64)          41216       ['bidirectional[0][0]']          \n",
      " )                                                                                                \n",
      "                                                                                                  \n",
      " bidirectional_3 (Bidirectional  (None, 64)          41216       ['bidirectional_2[0][0]']        \n",
      " )                                                                                                \n",
      "                                                                                                  \n",
      " concatenate (Concatenate)      (None, 128)          0           ['bidirectional_1[0][0]',        \n",
      "                                                                  'bidirectional_3[0][0]']        \n",
      "                                                                                                  \n",
      " dropout (Dropout)              (None, 128)          0           ['concatenate[0][0]']            \n",
      "                                                                                                  \n",
      " dense (Dense)                  (None, 1)            129         ['dropout[0][0]']                \n",
      "                                                                                                  \n",
      "==================================================================================================\n",
      "Total params: 854,657\n",
      "Trainable params: 854,657\n",
      "Non-trainable params: 0\n",
      "__________________________________________________________________________________________________\n"
     ]
    }
   ],
   "source": [
    "# Tokenization\n",
    "tokenizer = Tokenizer(num_words=5000)\n",
    "tokenizer.fit_on_texts(claims + evidence)  # Fit tokenizer on both claims and evidence\n",
    "\n",
    "# Convert texts to sequences\n",
    "claims_seq = tokenizer.texts_to_sequences(claims)\n",
    "evidence_seq = tokenizer.texts_to_sequences(evidence)\n",
    "\n",
    "# Padding\n",
    "# Determine max lengths separately \n",
    "max_length_claims = max(len(x) for x in claims_seq)\n",
    "max_length_evidence = max(len(x) for x in evidence_seq)\n",
    "\n",
    "# Apply padding\n",
    "claims_pad = pad_sequences(claims_seq, maxlen=max_length_claims)\n",
    "evidence_pad = pad_sequences(evidence_seq, maxlen=max_length_evidence)\n",
    "\n",
    "# Model architecture with dual input\n",
    "input_claims = Input(shape=(max_length_claims,), dtype='int32')\n",
    "input_evidence = Input(shape=(max_length_evidence,), dtype='int32')\n",
    "\n",
    "# Embedding layers\n",
    "embedding_layer_claims = Embedding(input_dim=5000, output_dim=64, input_length=max_length_claims)\n",
    "embedding_layer_evidence = Embedding(input_dim=5000, output_dim=64, input_length=max_length_evidence)\n",
    "\n",
    "claims_embeddings = embedding_layer_claims(input_claims)\n",
    "evidence_embeddings = embedding_layer_evidence(input_evidence)\n",
    "\n",
    "# LSTM layers\n",
    "claims_lstm = Bidirectional(LSTM(64, return_sequences=True))(claims_embeddings)\n",
    "claims_lstm = Bidirectional(LSTM(32))(claims_lstm)\n",
    "\n",
    "evidence_lstm = Bidirectional(LSTM(64, return_sequences=True))(evidence_embeddings)\n",
    "evidence_lstm = Bidirectional(LSTM(32))(evidence_lstm)\n",
    "\n",
    "# Concatenate the outputs of the two branches\n",
    "combined = concatenate([claims_lstm, evidence_lstm])\n",
    "\n",
    "# Possibly add dropout here\n",
    "dropout_layer = Dropout(0.1)(combined)\n",
    "\n",
    "# Output layer\n",
    "output = Dense(1, activation='sigmoid')(dropout_layer)\n",
    "\n",
    "model = Model(inputs=[input_claims, input_evidence], outputs=output)\n",
    "\n",
    "# Compile the model\n",
    "model.compile(optimizer=Adam(learning_rate=0.001), loss='binary_crossentropy', metrics=['accuracy'])\n",
    "\n",
    "model.summary()"
   ]
  },
  {
   "cell_type": "markdown",
   "metadata": {},
   "source": [
    "# Train the model"
   ]
  },
  {
   "cell_type": "code",
   "execution_count": 5,
   "metadata": {
    "execution": {
     "iopub.execute_input": "2024-04-24T16:01:16.155042Z",
     "iopub.status.busy": "2024-04-24T16:01:16.154511Z",
     "iopub.status.idle": "2024-04-24T16:01:38.489976Z",
     "shell.execute_reply": "2024-04-24T16:01:38.488934Z",
     "shell.execute_reply.started": "2024-04-24T16:01:16.155017Z"
    }
   },
   "outputs": [
    {
     "name": "stdout",
     "output_type": "stream",
     "text": [
      "Epoch 1/3\n",
      "75/75 [==============================] - 15s 70ms/step - loss: 0.5305 - accuracy: 0.7432 - val_loss: 0.4149 - val_accuracy: 0.8049\n",
      "Epoch 2/3\n",
      "75/75 [==============================] - 3s 45ms/step - loss: 0.3600 - accuracy: 0.8353 - val_loss: 0.4094 - val_accuracy: 0.7984\n",
      "Epoch 3/3\n",
      "75/75 [==============================] - 3s 46ms/step - loss: 0.2934 - accuracy: 0.8718 - val_loss: 0.4175 - val_accuracy: 0.8163\n"
     ]
    }
   ],
   "source": [
    "start_time = time.time()\n",
    "\n",
    "# Train the model using validation_split\n",
    "history = model.fit([claims_pad, evidence_pad], labels, batch_size=256, epochs=3, validation_split=0.2)\n",
    "\n",
    "end_time = time.time()"
   ]
  },
  {
   "cell_type": "code",
   "execution_count": 6,
   "metadata": {
    "execution": {
     "iopub.execute_input": "2024-04-24T16:01:38.491509Z",
     "iopub.status.busy": "2024-04-24T16:01:38.491111Z",
     "iopub.status.idle": "2024-04-24T16:01:38.496305Z",
     "shell.execute_reply": "2024-04-24T16:01:38.495380Z",
     "shell.execute_reply.started": "2024-04-24T16:01:38.491484Z"
    }
   },
   "outputs": [
    {
     "name": "stdout",
     "output_type": "stream",
     "text": [
      "Overall Training Time: 22.331351041793823 seconds\n",
      "Duration per Training Epoch: 7.443783680597941 seconds\n"
     ]
    }
   ],
   "source": [
    "training_time = end_time - start_time\n",
    "print(\"Overall Training Time:\", training_time, \"seconds\")\n",
    "\n",
    "# Calculate duration per training epoch\n",
    "epoch_duration = training_time / 3  # Assuming 3 epochs\n",
    "print(\"Duration per Training Epoch:\", epoch_duration, \"seconds\")"
   ]
  },
  {
   "cell_type": "code",
   "execution_count": 7,
   "metadata": {
    "execution": {
     "iopub.execute_input": "2024-04-24T16:01:38.498307Z",
     "iopub.status.busy": "2024-04-24T16:01:38.497727Z",
     "iopub.status.idle": "2024-04-24T16:01:38.605216Z",
     "shell.execute_reply": "2024-04-24T16:01:38.604422Z",
     "shell.execute_reply.started": "2024-04-24T16:01:38.498271Z"
    }
   },
   "outputs": [
    {
     "name": "stdout",
     "output_type": "stream",
     "text": [
      "Model Size: 9.910888671875 MB\n"
     ]
    }
   ],
   "source": [
    "import os\n",
    "# Saving the model\n",
    "model_name = 'Bi_LSTM_ED.h5'\n",
    "model.save(model_name)\n",
    "\n",
    "# Get the size of the saved model file\n",
    "model_size_bytes = os.path.getsize(model_name)\n",
    "model_size_MB = model_size_bytes / (1024 * 1024)  # Convert bytes to MB\n",
    "print(\"Model Size:\", model_size_MB, \"MB\")\n",
    "\n",
    "# Save the tokenizer using pickle\n",
    "with open('tokenizer.pickle', 'wb') as handle:\n",
    "    pickle.dump(tokenizer, handle, protocol=pickle.HIGHEST_PROTOCOL)\n",
    "\n",
    "# Save the max lengths using JSON\n",
    "lengths = {\n",
    "    'max_length_claims': max_length_claims,\n",
    "    'max_length_evidence': max_length_evidence\n",
    "}\n",
    "with open('lengths.json', 'w') as f:\n",
    "    json.dump(lengths, f)"
   ]
  },
  {
   "cell_type": "code",
   "execution_count": 8,
   "metadata": {
    "colab": {
     "base_uri": "https://localhost:8080/",
     "height": 472
    },
    "execution": {
     "iopub.execute_input": "2024-04-24T16:01:38.607859Z",
     "iopub.status.busy": "2024-04-24T16:01:38.607621Z",
     "iopub.status.idle": "2024-04-24T16:01:38.913342Z",
     "shell.execute_reply": "2024-04-24T16:01:38.912670Z",
     "shell.execute_reply.started": "2024-04-24T16:01:38.607837Z"
    },
    "id": "PeuFAOxE9QlJ",
    "outputId": "8f024429-b9be-4e8e-ad1e-2b3a4eb94c49"
   },
   "outputs": [
    {
     "data": {
      "image/png": "[encoded data removed]",
      "text/plain": [
       "<Figure size 640x480 with 1 Axes>"
      ]
     },
     "metadata": {},
     "output_type": "display_data"
    },
    {
     "data": {
      "image/png": "[encoded data removed]",
      "text/plain": [
       "<Figure size 640x480 with 1 Axes>"
      ]
     },
     "metadata": {},
     "output_type": "display_data"
    }
   ],
   "source": [
    "# summarize history for accuracy\n",
    "plt.plot(history.history['accuracy'])\n",
    "plt.plot(history.history['val_accuracy'])\n",
    "plt.title('model accuracy')\n",
    "plt.ylabel('accuracy')\n",
    "plt.xlabel('epoch')\n",
    "plt.legend(['train', 'val'], loc='upper left')\n",
    "plt.show()\n",
    "\n",
    "# summarize history for loss\n",
    "plt.plot(history.history['loss'])\n",
    "plt.plot(history.history['val_loss'])\n",
    "plt.title('model loss')\n",
    "plt.ylabel('loss')\n",
    "plt.xlabel('epoch')\n",
    "plt.legend(['train', 'val'], loc='upper left')\n",
    "plt.show()"
   ]
  },
  {
   "cell_type": "code",
   "execution_count": 9,
   "metadata": {
    "colab": {
     "base_uri": "https://localhost:8080/"
    },
    "execution": {
     "iopub.execute_input": "2024-04-24T16:01:38.914722Z",
     "iopub.status.busy": "2024-04-24T16:01:38.914264Z",
     "iopub.status.idle": "2024-04-24T16:01:45.958741Z",
     "shell.execute_reply": "2024-04-24T16:01:45.957821Z",
     "shell.execute_reply.started": "2024-04-24T16:01:38.914701Z"
    },
    "id": "nS4c9MQRMOom",
    "outputId": "3f2e91cd-19fa-4b66-a4b2-86fdefdfa80f"
   },
   "outputs": [
    {
     "name": "stdout",
     "output_type": "stream",
     "text": [
      "186/186 [==============================] - 2s 13ms/step - loss: 0.4210 - accuracy: 0.8132\n",
      "Test Loss: 0.421029657125473\n",
      "Test Accuracy: 0.813196063041687\n",
      "186/186 [==============================] - 4s 13ms/step\n",
      "              precision    recall  f1-score   support\n",
      "\n",
      "           0       0.85      0.91      0.88      4327\n",
      "           1       0.69      0.55      0.61      1599\n",
      "\n",
      "    accuracy                           0.81      5926\n",
      "   macro avg       0.77      0.73      0.75      5926\n",
      "weighted avg       0.80      0.81      0.81      5926\n",
      "\n",
      "Confusion Matrix:\n",
      "[[3937  390]\n",
      " [ 717  882]]\n",
      "ROC AUC Score: 0.7307315078626245\n"
     ]
    }
   ],
   "source": [
    "from sklearn.metrics import classification_report, confusion_matrix, roc_auc_score\n",
    "import matplotlib.pyplot as plt\n",
    "import seaborn as sns\n",
    "\n",
    "# Load the test data\n",
    "test_data = pd.read_csv('dev.csv')\n",
    "test_claims = test_data['Claim'].tolist()\n",
    "test_evidence = test_data['Evidence'].tolist()\n",
    "test_labels = test_data['label'].values\n",
    "\n",
    "# Tokenize and pad the test data for claims\n",
    "test_claims_seq = tokenizer.texts_to_sequences(test_claims)\n",
    "test_claims_pad = pad_sequences(test_claims_seq, maxlen=max_length_claims)\n",
    "\n",
    "# Tokenize and pad the test data for evidence - correct this line\n",
    "test_evidence_seq = tokenizer.texts_to_sequences(test_evidence)\n",
    "test_evidence_pad = pad_sequences(test_evidence_seq, maxlen=max_length_evidence)\n",
    "\n",
    "# Evaluate the model on the test set\n",
    "test_loss, test_accuracy = model.evaluate([test_claims_pad, test_evidence_pad], test_labels)\n",
    "print(\"Test Loss:\", test_loss)\n",
    "print(\"Test Accuracy:\", test_accuracy)\n",
    "\n",
    "# Predict classes or probabilities\n",
    "predictions = model.predict([test_claims_pad, test_evidence_pad])\n",
    "predictions = (predictions > 0.5).astype('int32')  # Converting probabilities to binary output\n",
    "\n",
    "# Print classification report\n",
    "print(classification_report(test_labels, predictions))\n",
    "\n",
    "# Print confusion matrix\n",
    "print(\"Confusion Matrix:\")\n",
    "print(confusion_matrix(test_labels, predictions))\n",
    "\n",
    "# Calculate ROC AUC Score\n",
    "roc_auc = roc_auc_score(test_labels, predictions)\n",
    "print(\"ROC AUC Score:\", roc_auc)"
   ]
  }
 ],
 "metadata": {
  "accelerator": "GPU",
  "colab": {
   "gpuType": "T4",
   "provenance": []
  },
  "kernelspec": {
   "display_name": "Python 3 (ipykernel)",
   "language": "python",
   "name": "python3"
  },
  "language_info": {
   "codemirror_mode": {
    "name": "ipython",
    "version": 3
   },
   "file_extension": ".py",
   "mimetype": "text/x-python",
   "name": "python",
   "nbconvert_exporter": "python",
   "pygments_lexer": "ipython3",
   "version": "3.9.16"
  }
 },
 "nbformat": 4,
 "nbformat_minor": 4
}
